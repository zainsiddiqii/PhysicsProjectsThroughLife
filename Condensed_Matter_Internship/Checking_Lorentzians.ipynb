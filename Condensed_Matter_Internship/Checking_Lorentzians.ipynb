{
 "cells": [
  {
   "cell_type": "code",
   "execution_count": 2,
   "metadata": {},
   "outputs": [
    {
     "name": "stdout",
     "output_type": "stream",
     "text": [
      "Eigenvalues of physical hamiltonian:  [-0.58036763  2.62101132]\n",
      "eigenvalues of supersystem:  [-1.         -0.58036763  1.          2.          2.62101132]\n",
      "eigenvectors of supersystem: \n",
      "[[ 0.         -0.81715676  0.          0.          0.5764155 ]\n",
      " [ 0.          0.5764155   0.          0.          0.81715676]\n",
      " [ 1.          0.          0.          0.          0.        ]\n",
      " [ 0.          0.          0.          1.          0.        ]\n",
      " [ 0.          0.          1.          0.          0.        ]]\n"
     ]
    },
    {
     "name": "stderr",
     "output_type": "stream",
     "text": [
      "C:\\Users\\zains\\Anaconda3\\lib\\site-packages\\ipykernel_launcher.py:35: ComplexWarning: Casting complex values to real discards the imaginary part\n"
     ]
    },
    {
     "data": {
      "image/png": "[encoded data removed]",
      "text/plain": [
       "<Figure size 432x288 with 1 Axes>"
      ]
     },
     "metadata": {
      "needs_background": "light"
     },
     "output_type": "display_data"
    }
   ],
   "source": [
    "import numpy as np\n",
    "import scipy.linalg\n",
    "import matplotlib.pyplot as plt\n",
    "#%matplotlib qt\n",
    "\n",
    "w = np.linspace(-5.,5.,400)\n",
    "naux = 3\n",
    "nphys = 2\n",
    "h_phys = np.random.random((nphys,nphys))    # h_alpha,beta\n",
    "h_phys += h_phys.T\n",
    "#aux_v = np.random.random((nphys,naux))      # nu_alpha,j\n",
    "aux_v = np.zeros((nphys,naux))\n",
    "aux_e = np.asarray([-1.0, 2.0, 1.0])\n",
    "eta = 0.01\n",
    "\n",
    "e, v = np.linalg.eigh(h_phys)\n",
    "print('Eigenvalues of physical hamiltonian: ',e)\n",
    "\n",
    "def construct_X(w, eta, aux_v, aux_e, h_phys):\n",
    "\n",
    "    n_omega = w.shape[0]\n",
    "    naux = aux_e.shape[0]\n",
    "    nphys = h_phys.shape[0]\n",
    "\n",
    "    S = np.zeros((nphys,nphys,n_omega),dtype='complex128')\n",
    "    X = np.zeros((nphys,nphys,n_omega),dtype='complex128')\n",
    "    X_tr = np.zeros(n_omega)\n",
    "\n",
    "    for i, w_val in enumerate(w):\n",
    "        S[:,:,i] = np.sum([np.outer(aux_v[:,j],aux_v[:,j]) / (w_val - aux_e[j] + 1.j*eta) for j in range(naux)], 0)\n",
    "\n",
    "        X[:,:,i] = -np.linalg.inv(np.eye(nphys)*(w_val + 1.j*eta) - h_phys - S[:,:,i]).imag / np.pi\n",
    "\n",
    "        #X[:,:,i] = (np.eye(nphys)*eta + S_im[:,:,i]) * np.linalg.inv( (np.power(np.eye(nphys)*w_val - h_phys - S_re[:,:,i],2) + np.power(np.eye(nphys)*eta + S_im[:,:,i],2)) )\n",
    "        X_tr[i] = np.trace(X[:,:,i])\n",
    "\n",
    "    return X, X_tr\n",
    "\n",
    "X, X_tr = construct_X(w, eta, aux_v, aux_e, h_phys)\n",
    "\n",
    "# Find other way of doing it by explicitly diagonalizing physical + auxiliary system\n",
    "n_super = nphys + naux\n",
    "h_super = np.zeros((n_super,n_super))\n",
    "h_super[:nphys,:nphys] = h_phys\n",
    "h_super[nphys:,nphys:] = np.diag(aux_e)\n",
    "h_super[:nphys,nphys:] = aux_v\n",
    "h_super[nphys:,:nphys] = aux_v.T\n",
    "assert(np.allclose(h_super,h_super.T))\n",
    "\n",
    "e_super, v_super = np.linalg.eigh(h_super)\n",
    "print('eigenvalues of supersystem: ', e_super)\n",
    "print('eigenvectors of supersystem: ')\n",
    "print(v_super)\n",
    "\n",
    "plt.plot(w, X_tr)\n",
    "for e_val in e_super:\n",
    "    plt.axvline(e_val)\n",
    "plt.show()"
   ]
  }
 ],
 "metadata": {
  "kernelspec": {
   "display_name": "Python 3",
   "language": "python",
   "name": "python3"
  },
  "language_info": {
   "codemirror_mode": {
    "name": "ipython",
    "version": 3
   },
   "file_extension": ".py",
   "mimetype": "text/x-python",
   "name": "python",
   "nbconvert_exporter": "python",
   "pygments_lexer": "ipython3",
   "version": "3.7.3"
  }
 },
 "nbformat": 4,
 "nbformat_minor": 4
}
