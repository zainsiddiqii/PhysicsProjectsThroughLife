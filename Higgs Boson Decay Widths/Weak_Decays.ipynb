{
 "cells": [
  {
   "cell_type": "code",
   "execution_count": 3,
   "metadata": {},
   "outputs": [
    {
     "data": {
      "image/png": "[encoded data removed]",
      "text/plain": [
       "<Figure size 432x288 with 1 Axes>"
      ]
     },
     "metadata": {
      "needs_background": "light"
     },
     "output_type": "display_data"
    }
   ],
   "source": [
    "import matplotlib.pyplot as plt\n",
    "import numpy as np\n",
    "\n",
    "#Fermi constant \n",
    "G_F = 1.16637e-5\n",
    "\n",
    "# Masses of particles\n",
    "m_W = 80.398\n",
    "m_Z = 91.1876\n",
    "m_c = 1.40\n",
    "m_b = 4.75\n",
    "m_t = 172.5\n",
    "m_tau = 1.777\n",
    "\n",
    "#Weinberg Angle\n",
    "c_W = m_W/m_Z\n",
    "\n",
    "#sine of Weinberg angle\n",
    "s_W = np.sqrt(1 - c_W**2)    \n",
    "    \n",
    "#Weak coupling constant\n",
    "alpha = (np.sqrt(2)/np.pi) * G_F * m_W**2 * s_W**2    \n",
    "    \n",
    "#Elementary charge in natural units and weak couplings for W and Z bosons\n",
    "e = np.sqrt(4 * np.pi * alpha)\n",
    "g_W = e/s_W\n",
    "g_Z = g_W/c_W \n",
    "\n",
    "\n",
    "def F(x):\n",
    "    func = -1 * (1-x**2) * (47/2 * x**2 - 13/2 + 1/(x**2))- 3 * (1 - 6 * x**2 + 4 * x**4) * np.log(x) + 3 * (1 - 8 * x**2 + 20 * x**4)/(np.sqrt(4 * x**2 - 1)) * np.arccos((3 * x**2 - 1)/(2 * x**3))\n",
    "    return func\n",
    "\n",
    "def tau(m, m_H):\n",
    "    tau = 4 * (m**2/m_H**2)\n",
    "    return tau\n",
    "    \n",
    "def beta(m, m_H):\n",
    "    beta = 1 - tau(m, m_H)\n",
    "    return beta\n",
    "\n",
    "def dW_WWstar(m_H, g):\n",
    "    dW = (3 * g**4 * m_H)/(512 * np.pi **3) * F(m_W/m_H)\n",
    "    return dW\n",
    "\n",
    "def dW_ZZstar(m_H, g):\n",
    "    dW = (g**4 * m_H)/(2048 * (1 - s_W**2)**2 * np.pi**3) * (7 - 40/3 * s_W**2 + 160/9 * s_W**4) * F((m_Z)/(m_H))\n",
    "    return dW\n",
    "\n",
    "def dW_V(m, m_H, delta):\n",
    "    dW = (G_F * m_H**3)/(16 * np.pi * np.sqrt(2)) * delta * (1 - tau(m, m_H) + 0.75 * tau(m, m_H)**2) * beta(m, m_H)\n",
    "    return dW\n",
    "\n",
    "def dW_W(m_H):\n",
    "    assert m_H >= m_W\n",
    "    if m_H < 2*m_W:\n",
    "        return dW_WWstar(m_H, g_W)\n",
    "    else:\n",
    "        return dW_V(m_W, m_H, 2)\n",
    "\n",
    "def dW_Z(m_H):\n",
    "    assert m_H >= m_Z\n",
    "    if m_H < 2*m_Z:\n",
    "        return dW_ZZstar(m_H, g_Z)\n",
    "    else:\n",
    "        return dW_V(m_Z, m_H, 1)\n",
    "                                                           \n",
    "m_Harray = np.linspace(m_Z,1000,10000) \n",
    "dW_Zarray = [dW_Z(m_H) for m_H in m_Harray]\n",
    "dW_Warray = [dW_W(m_H) for m_H in m_Harray]\n",
    "\n",
    "                                                           \n",
    "plt.loglog(m_Harray, dW_Zarray, label = r'$ZZ$', color = 'black', linewidth = 0.8)\n",
    "plt.loglog(m_Harray, dW_Warray, label = r'$W^+ W^-$', color = 'blue', linewidth = 0.8)\n",
    "plt.legend(loc = 'lower right')\n",
    "plt.xlabel(r'$m_H$ [GeV]')\n",
    "plt.ylabel(r'$\\Gamma \\, (H \\rightarrow VV)$ [GeV]')\n",
    "plt.xlim(m_Z, 1000)\n",
    "plt.savefig('WEAKDECAYS.png', dpi = 600)\n"
   ]
  }
 ],
 "metadata": {
  "kernelspec": {
   "display_name": "Python 3",
   "language": "python",
   "name": "python3"
  },
  "language_info": {
   "codemirror_mode": {
    "name": "ipython",
    "version": 3
   },
   "file_extension": ".py",
   "mimetype": "text/x-python",
   "name": "python",
   "nbconvert_exporter": "python",
   "pygments_lexer": "ipython3",
   "version": "3.7.3"
  }
 },
 "nbformat": 4,
 "nbformat_minor": 2
}
