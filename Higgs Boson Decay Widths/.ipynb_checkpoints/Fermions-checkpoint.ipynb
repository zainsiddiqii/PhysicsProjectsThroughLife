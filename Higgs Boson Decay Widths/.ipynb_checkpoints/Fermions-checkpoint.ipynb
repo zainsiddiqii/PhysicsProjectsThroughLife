{
 "cells": [
  {
   "cell_type": "code",
   "execution_count": 4,
   "metadata": {},
   "outputs": [
    {
     "data": {
      "image/png": "[encoded data removed]",
      "text/plain": [
       "<Figure size 432x288 with 1 Axes>"
      ]
     },
     "metadata": {
      "needs_background": "light"
     },
     "output_type": "display_data"
    }
   ],
   "source": [
    "import matplotlib.pyplot as plt\n",
    "import numpy as np    \n",
    "\n",
    "#Masses of Fermions\n",
    "m_c = 1.40\n",
    "m_b = 4.75\n",
    "m_t = 172.5\n",
    "m_tau = 1.777\n",
    "m_W = 80.398    \n",
    "m_Z = 91.1876\n",
    "\n",
    "#Fermi constant \n",
    "G_F = 1.16637e-5\n",
    "\n",
    "def N_C(m):\n",
    "    if m == m_tau:\n",
    "        N = 1\n",
    "    else:\n",
    "        N = 3\n",
    "    return N\n",
    "\n",
    "def tau(m, m_H):\n",
    "    tau = 4 * (m**2/m_H**2)\n",
    "    return tau\n",
    "    \n",
    "def beta(m, m_H):\n",
    "    beta = 1 - tau(m, m_H)\n",
    "    return beta\n",
    "\n",
    "def dW_Hff(m_H, m):\n",
    "    if m_H>=2*m : \n",
    "        return (G_F * m_H)/(4 * np.sqrt(2 * np.pi)) * N_C(m) * m**2 * beta(m, m_H)**3\n",
    "    else: \n",
    "        return 0\n",
    "   \n",
    "\n",
    "\n",
    "m_Harray = np.linspace(m_Z,1000,10000)\n",
    "\n",
    "charm = [dW_Hff(m_H, m_c) for m_H in m_Harray]\n",
    "bottom = [dW_Hff(m_H, m_b) for m_H in m_Harray]\n",
    "top = [dW_Hff(m_H, m_t) for m_H in m_Harray]\n",
    "tau = [dW_Hff(m_H, m_tau) for m_H in m_Harray]\n",
    "\n",
    "plt.loglog(m_Harray, charm, label = r'$c\\bar{c}$', color = 'black', linewidth = 0.8)\n",
    "plt.loglog(m_Harray, bottom, label = r'$b\\bar{b}$', color = 'blue', linewidth = 0.8)\n",
    "plt.loglog(m_Harray, top, label = r'$t\\bar{t}$', color = 'green', linewidth = 0.8)\n",
    "plt.loglog(m_Harray, tau, label = r'$\\tau^{-}\\tau^{+}$', color = 'red', linewidth = 0.8)\n",
    "plt.legend(loc = 'lower right')\n",
    "plt.xlabel(r'$m_H$ [GeV]')\n",
    "plt.ylabel(r'$\\Gamma \\, (H \\rightarrow f\\bar{f})$ [GeV]')\n",
    "plt.xlim(m_Z, 1000)\n",
    "plt.savefig('FERMIONS.png', dpi = 600)\n"
   ]
  },
  {
   "cell_type": "code",
   "execution_count": null,
   "metadata": {},
   "outputs": [],
   "source": []
  }
 ],
 "metadata": {
  "kernelspec": {
   "display_name": "Python 3",
   "language": "python",
   "name": "python3"
  },
  "language_info": {
   "codemirror_mode": {
    "name": "ipython",
    "version": 3
   },
   "file_extension": ".py",
   "mimetype": "text/x-python",
   "name": "python",
   "nbconvert_exporter": "python",
   "pygments_lexer": "ipython3",
   "version": "3.7.3"
  }
 },
 "nbformat": 4,
 "nbformat_minor": 2
}
